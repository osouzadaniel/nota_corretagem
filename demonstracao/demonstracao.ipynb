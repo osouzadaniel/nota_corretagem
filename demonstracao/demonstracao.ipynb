{
 "cells": [
  {
   "cell_type": "markdown",
   "id": "39c11a2d-8cf4-4e86-886b-d8b7560f2664",
   "metadata": {},
   "source": [
    "## Importando a Biblioteca"
   ]
  },
  {
   "cell_type": "code",
   "execution_count": 1,
   "id": "75eeeffe-205a-4760-aff5-f1838347a61c",
   "metadata": {},
   "outputs": [],
   "source": [
    "# Uso para importar biblioteca em pasta raiz\n",
    "import sys\n",
    "from pathlib import Path\n",
    "sys.path.append(str(Path('.').absolute().parent))\n",
    "\n",
    "# Importa NotaCorretagem\n",
    "from nota_corretagem import NotaCorretagem"
   ]
  },
  {
   "cell_type": "markdown",
   "id": "47c54b81-3850-476e-a208-60e10f712f8c",
   "metadata": {},
   "source": [
    "## Nota de Corretagem Única\n",
    "\n",
    "O código abaixo irá importar a nota de corretagem com os seguintes dados:\n",
    "\n",
    "<img src=\"nota_1.png\" style=\"width:700px; height: auto;\"/>\n",
    "<img src=\"nota_2.png\" style=\"width:700px; height: auto;\"/>"
   ]
  },
  {
   "cell_type": "code",
   "execution_count": 2,
   "id": "5cbda233-c1c4-4c47-89d7-fd5da6e251ca",
   "metadata": {},
   "outputs": [
    {
     "name": "stdout",
     "output_type": "stream",
     "text": [
      "Data: 2019-02-04\n",
      "Nota de corretagem: 436748\n",
      "------------------------------\n",
      "- Transações \n",
      "------------------------------\n",
      "                          quantidade    valor  preco     taxas  valor_liquido\n",
      "ativo           operacao                                                     \n",
      "BANCO PAN PN N1 Venda           2200  -4928.0   2.24  1.549333   -4926.450667\n",
      "JEREISSATI ON   Compra           400  10912.0  27.28  3.430667   10915.430667\n",
      "------------------------------\n",
      "Total de compras: R$10912.00\n",
      "Total de vendas: R$4928.00\n",
      "Total de taxas: R$4.98\n",
      "Taxa de I.R.R.F.: R$0.24\n",
      "------------------------------\n",
      "Total Líquido: R$5988.98\n",
      "\n"
     ]
    }
   ],
   "source": [
    "arquivo = '../arquivos/nota_exemplo3.pdf'\n",
    "\n",
    "nota = NotaCorretagem(arquivo)\n",
    "\n",
    "print(nota)"
   ]
  },
  {
   "cell_type": "markdown",
   "id": "8a68101e-cea7-4920-8bbd-13c21e05f275",
   "metadata": {},
   "source": [
    "Os dados podem ser acessados por meio dos atributos do objeto:"
   ]
  },
  {
   "cell_type": "code",
   "execution_count": 3,
   "id": "b24bfdd4-012a-4b05-8574-6913d34816ff",
   "metadata": {},
   "outputs": [
    {
     "name": "stdout",
     "output_type": "stream",
     "text": [
      "Transações Completas:\n",
      "             ativo operacao  quantidade  preco   valor\n",
      "0  BANCO PAN PN N1    Venda        1200   2.24 -2688.0\n",
      "1  BANCO PAN PN N1    Venda         400   2.24  -896.0\n",
      "2  BANCO PAN PN N1    Venda         600   2.24 -1344.0\n",
      "3    JEREISSATI ON   Compra         100  27.28  2728.0\n",
      "4    JEREISSATI ON   Compra         300  27.28  8184.0\n"
     ]
    }
   ],
   "source": [
    "print(\"Transações Completas:\")\n",
    "print(nota.transacoes_expandidas)"
   ]
  },
  {
   "cell_type": "code",
   "execution_count": 4,
   "id": "fa1fe6c5-0216-4422-9dc4-62732ed29089",
   "metadata": {},
   "outputs": [
    {
     "name": "stdout",
     "output_type": "stream",
     "text": [
      "Transações Condensadas:\n",
      "                          quantidade    valor  preco     taxas  valor_liquido\n",
      "ativo           operacao                                                     \n",
      "BANCO PAN PN N1 Venda           2200  -4928.0   2.24  1.549333   -4926.450667\n",
      "JEREISSATI ON   Compra           400  10912.0  27.28  3.430667   10915.430667\n"
     ]
    }
   ],
   "source": [
    "print(\"Transações Condensadas:\")\n",
    "print(nota.transacoes)"
   ]
  },
  {
   "cell_type": "code",
   "execution_count": 5,
   "id": "b3d3cf4d-e3eb-44bd-a877-c5cbd309e47c",
   "metadata": {},
   "outputs": [
    {
     "name": "stdout",
     "output_type": "stream",
     "text": [
      "Data: 2019-02-04\n"
     ]
    }
   ],
   "source": [
    "print(\"Data: {}\".format(nota.data))"
   ]
  },
  {
   "cell_type": "code",
   "execution_count": 6,
   "id": "56120901-7a38-4cf5-a9c3-cf005483e6c5",
   "metadata": {},
   "outputs": [
    {
     "name": "stdout",
     "output_type": "stream",
     "text": [
      "Número da Nota: 436748\n"
     ]
    }
   ],
   "source": [
    "print(\"Número da Nota: {}\".format(nota.numero_nota))"
   ]
  },
  {
   "cell_type": "code",
   "execution_count": 7,
   "id": "88b6aa2b-6294-428a-9a0f-56ee715fb9e1",
   "metadata": {},
   "outputs": [
    {
     "name": "stdout",
     "output_type": "stream",
     "text": [
      "Total de Compras: R$ 10912.00\n",
      "Total de Vendas: R$ 4928.00\n",
      "Total Líquido: R$ 5988.98\n",
      "Total de Taxas: R$ 4.98\n",
      "Total de I.R.R.F.: R$ 0.24\n"
     ]
    }
   ],
   "source": [
    "print(\"Total de Compras: R$ {:.2f}\".format(nota.total_compras))\n",
    "print(\"Total de Vendas: R$ {:.2f}\".format(nota.total_vendas))\n",
    "print(\"Total Líquido: R$ {:.2f}\".format(nota.total_liquido))\n",
    "print(\"Total de Taxas: R$ {:.2f}\".format(nota.total_taxas))\n",
    "print(\"Total de I.R.R.F.: R$ {:.2f}\".format(nota.irrf))"
   ]
  },
  {
   "cell_type": "markdown",
   "id": "4ec64573-c709-4d32-8eef-9906ffd252c6",
   "metadata": {},
   "source": [
    "## Múltiplas Notas de Corretagem em Um Único Arquivo"
   ]
  },
  {
   "cell_type": "code",
   "execution_count": 8,
   "id": "f8ff57fa-b79f-4a9a-bf22-594b7d12e5cd",
   "metadata": {},
   "outputs": [],
   "source": [
    "from nota_corretagem import LoteNotaCorretagem"
   ]
  },
  {
   "cell_type": "code",
   "execution_count": 11,
   "id": "252f17a9-2f0a-4f53-a4db-a4682dba7a30",
   "metadata": {},
   "outputs": [
    {
     "name": "stdout",
     "output_type": "stream",
     "text": [
      "Quantidade de Notas: 4\n"
     ]
    }
   ],
   "source": [
    "arquivo = '../arquivos/lote_exemplo.pdf'\n",
    "\n",
    "lote = LoteNotaCorretagem(arquivo)\n",
    "\n",
    "print(\"Quantidade de Notas: {}\".format(len(lote.notas)))"
   ]
  },
  {
   "cell_type": "code",
   "execution_count": 12,
   "id": "3b43b748-c821-4843-bd88-50f547f74dc8",
   "metadata": {},
   "outputs": [
    {
     "name": "stdout",
     "output_type": "stream",
     "text": [
      "++++++++++++++++++\n",
      "++++++++++++++++++\n",
      "NOTA 1\n",
      "Data: 2019-10-18\n",
      "Nota de corretagem: 6464949\n",
      "------------------------------\n",
      "- Transações \n",
      "------------------------------\n",
      "                                 quantidade    valor   preco     taxas  \\\n",
      "ativo                  operacao                                          \n",
      "FII GGRCOVEP GGRC11 CI Compra           110  15728.9  142.99  4.963506   \n",
      "ITAUUNIBANCO PN N1     Venda            100  -3443.0   34.43  1.086494   \n",
      "\n",
      "                                 valor_liquido  \n",
      "ativo                  operacao                 \n",
      "FII GGRCOVEP GGRC11 CI Compra     15733.863506  \n",
      "ITAUUNIBANCO PN N1     Venda      -3441.913506  \n",
      "------------------------------\n",
      "Total de compras: R$15728.90\n",
      "Total de vendas: R$3443.00\n",
      "Total de taxas: R$6.05\n",
      "Taxa de I.R.R.F.: R$0.17\n",
      "------------------------------\n",
      "Total Líquido: R$12291.95\n",
      "\n",
      "++++++++++++++++++\n",
      "++++++++++++++++++\n",
      "NOTA 2\n",
      "Data: 2019-10-25\n",
      "Nota de corretagem: 6697186\n",
      "------------------------------\n",
      "- Transações \n",
      "------------------------------\n",
      "                       quantidade   valor  preco  taxas  valor_liquido\n",
      "ativo        operacao                                                 \n",
      "AMBEV S/A ON Compra           200  3582.0  17.91   1.12        3583.12\n",
      "------------------------------\n",
      "Total de compras: R$3582.00\n",
      "Total de vendas: R$0.00\n",
      "Total de taxas: R$1.12\n",
      "Taxa de I.R.R.F.: R$0.00\n",
      "------------------------------\n",
      "Total Líquido: R$3583.12\n",
      "\n",
      "++++++++++++++++++\n",
      "++++++++++++++++++\n",
      "NOTA 3\n",
      "Data: 2019-10-30\n",
      "Nota de corretagem: 6838188\n",
      "------------------------------\n",
      "- Transações \n",
      "------------------------------\n",
      "                                quantidade    valor   preco     taxas  \\\n",
      "ativo                 operacao                                          \n",
      "FII HG REAL HGRE11 CI Compra            90  15367.5  170.75  4.852097   \n",
      "RUMO S.A. ON NM       Venda            700 -16051.0   22.93  5.067903   \n",
      "\n",
      "                                valor_liquido  \n",
      "ativo                 operacao                 \n",
      "FII HG REAL HGRE11 CI Compra     15372.352097  \n",
      "RUMO S.A. ON NM       Venda     -16045.932097  \n",
      "------------------------------\n",
      "Total de compras: R$15367.50\n",
      "Total de vendas: R$16051.00\n",
      "Total de taxas: R$9.92\n",
      "Taxa de I.R.R.F.: R$0.80\n",
      "------------------------------\n",
      "Total Líquido: R$673.58\n",
      "\n",
      "++++++++++++++++++\n",
      "++++++++++++++++++\n",
      "NOTA 4\n",
      "Data: 2019-10-31\n",
      "Nota de corretagem: 6884754\n",
      "------------------------------\n",
      "- Transações \n",
      "------------------------------\n",
      "                          quantidade    valor  preco  taxas  valor_liquido\n",
      "ativo           operacao                                                  \n",
      "RUMO S.A. ON NM Compra           700  16079.0  22.97   5.08       16084.08\n",
      "------------------------------\n",
      "Total de compras: R$16079.00\n",
      "Total de vendas: R$0.00\n",
      "Total de taxas: R$5.08\n",
      "Taxa de I.R.R.F.: R$0.00\n",
      "------------------------------\n",
      "Total Líquido: R$16084.08\n",
      "\n"
     ]
    }
   ],
   "source": [
    "for nota in range(len(lote.notas)):\n",
    "    print(\"++++++++++++++++++\")\n",
    "    print(\"++++++++++++++++++\")\n",
    "    print(f\"NOTA {nota+1}\")\n",
    "    \n",
    "    print(lote.notas[nota])"
   ]
  },
  {
   "cell_type": "code",
   "execution_count": null,
   "id": "7676a68e-01c1-433b-a0f7-ce8eba2f1473",
   "metadata": {},
   "outputs": [],
   "source": []
  }
 ],
 "metadata": {
  "kernelspec": {
   "display_name": "Python 3 (ipykernel)",
   "language": "python",
   "name": "python3"
  },
  "language_info": {
   "codemirror_mode": {
    "name": "ipython",
    "version": 3
   },
   "file_extension": ".py",
   "mimetype": "text/x-python",
   "name": "python",
   "nbconvert_exporter": "python",
   "pygments_lexer": "ipython3",
   "version": "3.8.11"
  }
 },
 "nbformat": 4,
 "nbformat_minor": 5
}
