{
 "cells": [
  {
   "cell_type": "markdown",
   "id": "39c11a2d-8cf4-4e86-886b-d8b7560f2664",
   "metadata": {},
   "source": [
    "## Importando a Biblioteca"
   ]
  },
  {
   "cell_type": "code",
   "execution_count": 1,
   "id": "75eeeffe-205a-4760-aff5-f1838347a61c",
   "metadata": {},
   "outputs": [],
   "source": [
    "# Uso para importar biblioteca em pasta raiz\n",
    "import sys\n",
    "from pathlib import Path\n",
    "sys.path.append(str(Path('.').absolute().parent))\n",
    "\n",
    "# Importa NotaCorretagem\n",
    "from nota_corretagem import NotaCorretagem"
   ]
  },
  {
   "cell_type": "markdown",
   "id": "47c54b81-3850-476e-a208-60e10f712f8c",
   "metadata": {},
   "source": [
    "## Exemplo\n",
    "\n",
    "O código abaixo irá importar a nota de corretagem com os seguintes dados:\n",
    "\n",
    "<img src=\"nota_1.png\" style=\"width:700px; height: auto;\"/>\n",
    "<img src=\"nota_2.png\" style=\"width:700px; height: auto;\"/>"
   ]
  },
  {
   "cell_type": "code",
   "execution_count": 2,
   "id": "5cbda233-c1c4-4c47-89d7-fd5da6e251ca",
   "metadata": {},
   "outputs": [
    {
     "name": "stdout",
     "output_type": "stream",
     "text": [
      "Data: 2019-02-04\n",
      "Nota de corretagem: 436748\n",
      "------------------------------\n",
      "- Transações \n",
      "------------------------------\n",
      "                          quantidade    valor  preco     taxas  valor_liquido\n",
      "ativo           operacao                                                     \n",
      "BANCO PAN PN N1 Venda           2200  -4928.0   2.24  1.549333   -4926.450667\n",
      "JEREISSATI ON   Compra           400  10912.0  27.28  3.430667   10915.430667\n",
      "------------------------------\n",
      "Total de compras: R$10912.00\n",
      "Total de vendas: R$4928.00\n",
      "Total de taxas: R$4.98\n",
      "Taxa de I.R.R.F.: R$0.24\n",
      "------------------------------\n",
      "Total Líquido: R$5988.98\n",
      "\n"
     ]
    }
   ],
   "source": [
    "arquivo = '../arquivos/nota_exemplo3.pdf'\n",
    "\n",
    "nota = NotaCorretagem(arquivo)\n",
    "\n",
    "print(nota)"
   ]
  },
  {
   "cell_type": "markdown",
   "id": "8a68101e-cea7-4920-8bbd-13c21e05f275",
   "metadata": {},
   "source": [
    "Os dados podem ser acessados por meio dos atributos do objeto:"
   ]
  },
  {
   "cell_type": "code",
   "execution_count": 3,
   "id": "b24bfdd4-012a-4b05-8574-6913d34816ff",
   "metadata": {},
   "outputs": [
    {
     "name": "stdout",
     "output_type": "stream",
     "text": [
      "Transações Completas:\n",
      "             ativo operacao  quantidade  preco   valor\n",
      "0  BANCO PAN PN N1    Venda        1200   2.24 -2688.0\n",
      "1  BANCO PAN PN N1    Venda         400   2.24  -896.0\n",
      "2  BANCO PAN PN N1    Venda         600   2.24 -1344.0\n",
      "3    JEREISSATI ON   Compra         100  27.28  2728.0\n",
      "4    JEREISSATI ON   Compra         300  27.28  8184.0\n"
     ]
    }
   ],
   "source": [
    "print(\"Transações Completas:\")\n",
    "print(nota.transacoes_expandidas)"
   ]
  },
  {
   "cell_type": "code",
   "execution_count": 4,
   "id": "fa1fe6c5-0216-4422-9dc4-62732ed29089",
   "metadata": {},
   "outputs": [
    {
     "name": "stdout",
     "output_type": "stream",
     "text": [
      "Transações Condensadas:\n",
      "                          quantidade    valor  preco     taxas  valor_liquido\n",
      "ativo           operacao                                                     \n",
      "BANCO PAN PN N1 Venda           2200  -4928.0   2.24  1.549333   -4926.450667\n",
      "JEREISSATI ON   Compra           400  10912.0  27.28  3.430667   10915.430667\n"
     ]
    }
   ],
   "source": [
    "print(\"Transações Condensadas:\")\n",
    "print(nota.transacoes)"
   ]
  },
  {
   "cell_type": "code",
   "execution_count": 5,
   "id": "b3d3cf4d-e3eb-44bd-a877-c5cbd309e47c",
   "metadata": {},
   "outputs": [
    {
     "name": "stdout",
     "output_type": "stream",
     "text": [
      "Data: 2019-02-04\n"
     ]
    }
   ],
   "source": [
    "print(\"Data: {}\".format(nota.data))"
   ]
  },
  {
   "cell_type": "code",
   "execution_count": 6,
   "id": "56120901-7a38-4cf5-a9c3-cf005483e6c5",
   "metadata": {},
   "outputs": [
    {
     "name": "stdout",
     "output_type": "stream",
     "text": [
      "Número da Nota: 436748\n"
     ]
    }
   ],
   "source": [
    "print(\"Número da Nota: {}\".format(nota.numero_nota))"
   ]
  },
  {
   "cell_type": "code",
   "execution_count": 7,
   "id": "88b6aa2b-6294-428a-9a0f-56ee715fb9e1",
   "metadata": {},
   "outputs": [
    {
     "name": "stdout",
     "output_type": "stream",
     "text": [
      "Total de Compras: R$ 10912.00\n",
      "Total de Vendas: R$ 4928.00\n",
      "Total Líquido: R$ 5988.98\n",
      "Total de Taxas: R$ 4.98\n",
      "Total de I.R.R.F.: R$ 0.24\n"
     ]
    }
   ],
   "source": [
    "print(\"Total de Compras: R$ {:.2f}\".format(nota.total_compras))\n",
    "print(\"Total de Vendas: R$ {:.2f}\".format(nota.total_vendas))\n",
    "print(\"Total Líquido: R$ {:.2f}\".format(nota.total_liquido))\n",
    "print(\"Total de Taxas: R$ {:.2f}\".format(nota.total_taxas))\n",
    "print(\"Total de I.R.R.F.: R$ {:.2f}\".format(nota.irrf))"
   ]
  },
  {
   "cell_type": "code",
   "execution_count": null,
   "id": "0e1d0fca-48cf-46f6-82dc-af6b75102ff8",
   "metadata": {},
   "outputs": [],
   "source": []
  }
 ],
 "metadata": {
  "kernelspec": {
   "display_name": "Python 3 (ipykernel)",
   "language": "python",
   "name": "python3"
  },
  "language_info": {
   "codemirror_mode": {
    "name": "ipython",
    "version": 3
   },
   "file_extension": ".py",
   "mimetype": "text/x-python",
   "name": "python",
   "nbconvert_exporter": "python",
   "pygments_lexer": "ipython3",
   "version": "3.8.11"
  }
 },
 "nbformat": 4,
 "nbformat_minor": 5
}
